{
 "cells": [
  {
   "cell_type": "code",
   "execution_count": 1,
   "id": "903c4600",
   "metadata": {},
   "outputs": [
    {
     "name": "stdout",
     "output_type": "stream",
     "text": [
      "✅ New file created: selected_features_only.csv\n"
     ]
    }
   ],
   "source": [
    "import pandas as pd\n",
    "\n",
    "# Load your merged dataset\n",
    "df = pd.read_csv(\"final_merged_dataset.csv\")\n",
    "\n",
    "# Selected features\n",
    "features = [\n",
    "    'feedrate', 'Y1_OutputCurrent', 'clamp_pressure', 'X1_OutputCurrent',\n",
    "    'M1_CURRENT_FEEDRATE', 'X1_CommandPosition', 'X1_ActualPosition',\n",
    "    'X1_OutputVoltage', 'Y1_CommandPosition', 'Y1_ActualPosition',\n",
    "    'X1_ActualVelocity', 'X1_ActualAcceleration', 'X1_CommandVelocity',\n",
    "    'X1_CommandAcceleration', 'X1_CurrentFeedback', 'X1_DCBusVoltage'\n",
    "]\n",
    "\n",
    "# Extract only the selected features\n",
    "df_selected = df[features]\n",
    "\n",
    "# Save to a new CSV file\n",
    "df_selected.to_csv(\"selected_features_only.csv\", index=False)\n",
    "\n",
    "print(\"✅ New file created: selected_features_only.csv\")\n"
   ]
  }
 ],
 "metadata": {
  "kernelspec": {
   "display_name": "Python 3",
   "language": "python",
   "name": "python3"
  },
  "language_info": {
   "codemirror_mode": {
    "name": "ipython",
    "version": 3
   },
   "file_extension": ".py",
   "mimetype": "text/x-python",
   "name": "python",
   "nbconvert_exporter": "python",
   "pygments_lexer": "ipython3",
   "version": "3.10.11"
  }
 },
 "nbformat": 4,
 "nbformat_minor": 5
}
